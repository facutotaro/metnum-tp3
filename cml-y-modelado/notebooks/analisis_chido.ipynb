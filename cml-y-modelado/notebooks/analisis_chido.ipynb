{
 "cells": [
  {
   "cell_type": "markdown",
   "metadata": {},
   "source": [
    "# Análisis de modelo: CML, R², VIF"
   ]
  },
  {
   "cell_type": "code",
   "execution_count": null,
   "metadata": {},
   "outputs": [],
   "source": [
    "!cd .. && mkdir build\n",
    "!cd ../build/ && rm -rf *\n",
    "!cd ../build && cmake \\\n",
    "  -DPYTHON_EXECUTABLE=\"$(which python3)\" \\\n",
    "  -DCMAKE_BUILD_TYPE=Release ..\n",
    "!cd ../build && make install"
   ]
  },
  {
   "cell_type": "code",
   "execution_count": null,
   "metadata": {},
   "outputs": [],
   "source": [
    "# Verifico la correcta instalación. Si no falla el import está OK\n",
    "!pwd\n",
    "!python3 --version\n",
    "import metnum"
   ]
  },
  {
   "cell_type": "markdown",
   "metadata": {},
   "source": [
    "## Explorando los datos"
   ]
  },
  {
   "cell_type": "code",
   "execution_count": null,
   "metadata": {},
   "outputs": [],
   "source": [
    "%load_ext autoreload\n",
    "%autoreload 2\n",
    "import pandas as pd\n",
    "import numpy as np\n",
    "import sklearn.metrics as mtr\n",
    "import matplotlib.pyplot as plt\n",
    "\n",
    "datos = pd.read_csv(\"../../dataset-tp3/expectativa_de_vida.csv\")"
   ]
  },
  {
   "cell_type": "code",
   "execution_count": null,
   "metadata": {},
   "outputs": [],
   "source": [
    "datos"
   ]
  },
  {
   "cell_type": "markdown",
   "metadata": {},
   "source": [
    "# Análisis"
   ]
  },
  {
   "cell_type": "code",
   "execution_count": null,
   "metadata": {},
   "outputs": [],
   "source": [
    "def analisis_VIF(datos, etiquetas) :\n",
    "    print (\"VIF:\")\n",
    "    for etiqueta in etiquetas :\n",
    "        demas_etiquetas = etiquetas.copy()\n",
    "        demas_etiquetas.remove(etiqueta)\n",
    "        r2_sin_ajuste = analisis(datos, demas_etiquetas, etiqueta, True)\n",
    "        vif = 1/(1-r2_sin_ajuste)\n",
    "        print('\\t', \"%+.6f\" % vif, '\\t', etiqueta)\n",
    "        \n",
    "#def analisis_COOK(datos, etiquetas, resultados, residuos) :\n",
    "#    ecm = \n",
    "#    for fila in range(0, datos.shape[0]) :\n",
    "        "
   ]
  },
  {
   "cell_type": "code",
   "execution_count": null,
   "metadata": {},
   "outputs": [],
   "source": [
    "def analisis(datos, etiquetas, resultados, en_subanalisis_vif=False) :\n",
    "    expectativas = datos[resultados].values.reshape(-1, 1)\n",
    "    \n",
    "    # Elegir los predictores a usar de entre los datos\n",
    "    predictores = datos[etiquetas].values\n",
    "    cantidad_predictores = predictores.shape[1]\n",
    "    \n",
    "    # Verificar que cada muestra de predictores tiene un resultado asociado\n",
    "    cantidad_muestras = predictores.shape[0]\n",
    "    assert(cantidad_muestras == expectativas.shape[0])\n",
    "    if (not en_subanalisis_vif) :\n",
    "        print(\"Países:\", cantidad_muestras)\n",
    "        print()\n",
    "    \n",
    "    # Agregar columna de 1's para el coeficiente constante\n",
    "    predictores_con_constante = np.append(predictores.copy(), np.ones((cantidad_muestras,1)), axis=1)\n",
    "    \n",
    "    # Calcular coeficientes óptimos según Cuadrados Mínimos Lineales (C++)\n",
    "    coeficientes = metnum.CML().solve(predictores_con_constante, expectativas)\n",
    "    if (not en_subanalisis_vif) :\n",
    "        print(\"COEFICIENTES SIN ESTANDARIZACIÓN (para predecir resultados):\")\n",
    "        print('\\t',\"Constante:\",coeficientes[cantidad_predictores])\n",
    "        for i in range(cantidad_predictores) :\n",
    "            print('\\t', \"%+.6f\" % coeficientes[i], '\\t', etiquetas[i])\n",
    "        print()\n",
    "        \n",
    "        \n",
    "    \n",
    "    # Calcular las predicciones y residuos\n",
    "    predicciones = np.zeros(cantidad_muestras)\n",
    "    residuos = np.zeros(cantidad_muestras)\n",
    "    for i in range(cantidad_muestras) :\n",
    "        predicciones[i] = np.dot(predictores_con_constante[i], coeficientes)\n",
    "        residuos[i] = predicciones[i] - expectativas[i]\n",
    "    \n",
    "    \n",
    "    # Calcular R² y R² ajustado\n",
    "    r2_sin_ajuste = mtr.r2_score(expectativas, predicciones)\n",
    "    r2_con_ajuste = 1-(1-r2_sin_ajuste)*(cantidad_muestras-1)/(cantidad_muestras-cantidad_predictores-1)\n",
    "    if (en_subanalisis_vif) : return r2_sin_ajuste\n",
    "    print(\"VARIABILIDAD EXPLICADA\")\n",
    "    print('\\t',\"R² sin ajuste:\",r2_sin_ajuste)\n",
    "    print('\\t',\"R² con ajuste:\",r2_con_ajuste)\n",
    "    print()\n",
    "    \n",
    "    \n",
    "    # Calcular las muestras estandarizadas según cada predictor\n",
    "    predictores_estandarizados = predictores.copy()\n",
    "    for i in range(cantidad_predictores) :\n",
    "        # Restar media\n",
    "        predictores_estandarizados[:,i] -= np.mean(predictores_estandarizados[:,i])\n",
    "        # Dividir por desvío estandar, en caso de no ser nulo\n",
    "        if (np.std(predictores_estandarizados[:,i]) != 0) :\n",
    "            predictores_estandarizados[:,i] /= np.std(predictores_estandarizados[:,i])\n",
    "    \n",
    "    # Calcular la significancia relativa entre coeficientes\n",
    "    coeficientes_relativos = metnum.CML().solve(predictores_estandarizados, expectativas)\n",
    "    print(\"COEFICIENTES CON ESTANDARIZACIÓN (para comparar significancia):\")\n",
    "    for i in range(cantidad_predictores) :\n",
    "        print('\\t', \"%+.6f\" % coeficientes_relativos[i], '\\t', etiquetas[i])\n",
    "    print()\n",
    "    \n",
    "    analisis_VIF(datos, etiquetas)\n",
    "    \n",
    "    # Gráfico \"residuo vs predicción\" (normalizado)\n",
    "    residuos_estandarizados = residuos.copy()/np.std(residuos)\n",
    "    for i in range(cantidad_muestras) :\n",
    "        # Restar media\n",
    "        residuos_estandarizados[i] -= np.mean(residuos)\n",
    "        # Dividir por desvío estandar\n",
    "        residuos_estandarizados[i] /= np.std(residuos)\n",
    "    plt.plot(predicciones, residuos_estandarizados, 'x')\n",
    "    plt.xlabel(\"Predicciones\")\n",
    "    plt.ylabel(\"Residuos estandarizados\")\n",
    "    plt.hlines(0, xmin=min(predicciones), xmax=max(predicciones))\n",
    "    plt.title(\"Residual plot\")\n",
    "    plt.show()\n",
    "    \n",
    "    print(\"--------------------------------------------------------------------------------------------------------------------------------\")\n",
    "    #analisis_COOK(datos, etiquetas, resultados, residuos)\n",
    "    \n",
    "    #return coeficientes, r2_con_ajuste"
   ]
  },
  {
   "cell_type": "markdown",
   "metadata": {},
   "source": [
    "# Sanitización de dataset"
   ]
  },
  {
   "cell_type": "raw",
   "metadata": {},
   "source": [
    "Para todos los datos faltantes (NaN), completamos con algún valor acorde\n",
    "Para comparar, hacemos 3 versiones: una con medias, otra con medianas,\n",
    "y una tercera infiriendo los datos apartir del grupo variables correlacionadas\n",
    "ESTA TERCERA OPCIÓN NO ES VIABLE PORQUE LOS DATOS CORRELACIONADOS FALTAN EN TODO EL RESPECTIVO GRUPO\n",
    "    ejemplos (\"GDP\" desde \"expenditure\", o \"Population\" desde \"infant deaths\")\n",
    "4ta opcion: reemplazar por la mediana de los países con el mismo nivel de desarrollo"
   ]
  },
  {
   "cell_type": "code",
   "execution_count": null,
   "metadata": {},
   "outputs": [],
   "source": [
    "def completar_medias(originales) :\n",
    "    completados = datos.copy()[:]\n",
    "    for columna in completados.columns :\n",
    "        if (columna == \"Country\" or columna == \"Status\") : continue\n",
    "        media = np.nanmean(completados[columna])\n",
    "        es_NaN = completados[columna].isnull()\n",
    "        completados[columna][es_NaN] = media\n",
    "    return completados\n",
    "\n",
    "\n",
    "def completar_medianas(originales) :\n",
    "    completados = datos.copy()[:]\n",
    "    for columna in completados.columns :\n",
    "        if (columna == \"Country\" or columna == \"Status\") : continue\n",
    "        mediana = np.nanmedian(completados[columna])\n",
    "        es_NaN = completados[columna].isnull()\n",
    "        completados[columna][es_NaN] = mediana\n",
    "    return completados\n",
    "\n",
    "\n",
    "def completar_medianas_segregado(originales) :\n",
    "    completados = datos.copy()[:]\n",
    "    for columna in completados.columns :\n",
    "        if (columna != \"Country\" and columna != \"Status\") :\n",
    "            mediana_desarrollados = np.nanmedian(datos[datos[\"Status\"] == \"Developed\"][columna])\n",
    "            mediana_en_desarrollo = np.nanmedian(datos[datos[\"Status\"] == \"Developing\"][columna])\n",
    "\n",
    "            es_NaN_desarrollados = datos[columna].isnull() * datos[\"Status\"] == \"Developed\"\n",
    "            es_NaN_en_desarrollo = datos[columna].isnull() * datos[\"Status\"] == \"Developing\"\n",
    "            \n",
    "            nueva_columna = completados[columna].copy()\n",
    "            nueva_columna[es_NaN_en_desarrollo] = mediana_en_desarrollo\n",
    "            nueva_columna[es_NaN_desarrollados] = mediana_desarrollados\n",
    "            completados[columna] = nueva_columna\n",
    "        \n",
    "    return completados\n",
    "            \n",
    "            \n",
    "datos_con_medias = completar_medias(datos)\n",
    "datos_con_medianas = completar_medianas(datos)\n",
    "datos_con_medianas_segregadas = completar_medianas_segregado(datos)"
   ]
  },
  {
   "cell_type": "code",
   "execution_count": null,
   "metadata": {},
   "outputs": [],
   "source": [
    "# Estaban así\n",
    "datos[datos[\"Schooling\"].isnull()][[\"Country\", \"Schooling\", \"Status\"]]"
   ]
  },
  {
   "cell_type": "code",
   "execution_count": null,
   "metadata": {},
   "outputs": [],
   "source": [
    "# Aber si funcó\n",
    "datos_con_medianas_segregadas[datos[\"Schooling\"].isnull()][[\"Country\", \"Schooling\", \"Status\"]]"
   ]
  },
  {
   "cell_type": "markdown",
   "metadata": {},
   "source": [
    "# Eleción de dataset"
   ]
  },
  {
   "cell_type": "markdown",
   "metadata": {},
   "source": [
    "### Todos los predictores originales"
   ]
  },
  {
   "cell_type": "code",
   "execution_count": null,
   "metadata": {},
   "outputs": [],
   "source": [
    "analisis(datos_con_medias, ['Adult Mortality', 'infant deaths', 'Alcohol', 'percentage expenditure', 'Hepatitis B', 'Measles', 'BMI', 'under-five deaths', 'Polio', 'Total expenditure', 'Diphtheria', 'HIV/AIDS', 'GDP', 'Population', 'thinness  1-19 years', 'thinness 5-9 years', 'Income composition of resources', 'Schooling', 'Poisoning'], 'Life expectancy')\n",
    "analisis(datos_con_medianas, ['Adult Mortality', 'infant deaths', 'Alcohol', 'percentage expenditure', 'Hepatitis B', 'Measles', 'BMI', 'under-five deaths', 'Polio', 'Total expenditure', 'Diphtheria', 'HIV/AIDS', 'GDP', 'Population', 'thinness  1-19 years', 'thinness 5-9 years', 'Income composition of resources', 'Schooling', 'Poisoning'], 'Life expectancy')\n",
    "analisis(datos_con_medianas_segregadas, ['Adult Mortality', 'infant deaths', 'Alcohol', 'percentage expenditure', 'Hepatitis B', 'Measles', 'BMI', 'under-five deaths', 'Polio', 'Total expenditure', 'Diphtheria', 'HIV/AIDS', 'GDP', 'Population', 'thinness  1-19 years', 'thinness 5-9 years', 'Income composition of resources', 'Schooling', 'Poisoning'], 'Life expectancy')"
   ]
  },
  {
   "cell_type": "markdown",
   "metadata": {},
   "source": [
    "### Un predictor de cada grupo correlacionado"
   ]
  },
  {
   "cell_type": "code",
   "execution_count": null,
   "metadata": {},
   "outputs": [],
   "source": [
    "analisis(datos_con_medias, ['Adult Mortality', 'infant deaths', 'Alcohol', 'Hepatitis B', 'BMI', 'Total expenditure', 'HIV/AIDS', 'GDP', 'Schooling', 'Poisoning'], 'Life expectancy')\n",
    "analisis(datos_con_medianas, ['Adult Mortality', 'infant deaths', 'Alcohol', 'Hepatitis B', 'BMI', 'Total expenditure', 'HIV/AIDS', 'GDP', 'Schooling', 'Poisoning'], 'Life expectancy')\n",
    "analisis(datos_con_medianas_segregadas, ['Adult Mortality', 'infant deaths', 'Alcohol', 'Hepatitis B', 'BMI', 'Total expenditure', 'HIV/AIDS', 'GDP', 'Schooling', 'Poisoning'], 'Life expectancy')"
   ]
  },
  {
   "cell_type": "markdown",
   "metadata": {},
   "source": [
    "# Backwards selection solo mirando los VIF\n",
    "Elegimos un solo dataset para este análisis, los resultados son muy similares en todos "
   ]
  },
  {
   "cell_type": "code",
   "execution_count": null,
   "metadata": {},
   "outputs": [],
   "source": [
    "analisis(datos_con_medianas_segregadas, ['Adult Mortality', 'infant deaths', 'Alcohol', 'percentage expenditure', 'Hepatitis B', 'Measles', 'BMI', 'under-five deaths', 'Polio', 'Total expenditure', 'Diphtheria', 'HIV/AIDS', 'GDP', 'Population', 'thinness  1-19 years', 'thinness 5-9 years', 'Income composition of resources', 'Schooling', 'Poisoning'], 'Life expectancy')"
   ]
  },
  {
   "cell_type": "code",
   "execution_count": null,
   "metadata": {},
   "outputs": [],
   "source": [
    "# infant deaths"
   ]
  },
  {
   "cell_type": "code",
   "execution_count": null,
   "metadata": {},
   "outputs": [],
   "source": [
    "analisis(datos_con_medianas_segregadas, ['Adult Mortality', 'Alcohol', 'percentage expenditure', 'Hepatitis B', 'Measles', 'BMI', 'under-five deaths', 'Polio', 'Total expenditure', 'Diphtheria', 'HIV/AIDS', 'GDP', 'Population', 'thinness  1-19 years', 'thinness 5-9 years', 'Income composition of resources', 'Schooling', 'Poisoning'], 'Life expectancy')"
   ]
  },
  {
   "cell_type": "code",
   "execution_count": null,
   "metadata": {},
   "outputs": [],
   "source": [
    "# thinness 5-9 years"
   ]
  },
  {
   "cell_type": "code",
   "execution_count": null,
   "metadata": {},
   "outputs": [],
   "source": [
    "analisis(datos_con_medianas_segregadas, ['Adult Mortality', 'Alcohol', 'percentage expenditure', 'Hepatitis B', 'Measles', 'BMI', 'under-five deaths', 'Polio', 'Total expenditure', 'Diphtheria', 'HIV/AIDS', 'GDP', 'Population', 'thinness  1-19 years', 'Income composition of resources', 'Schooling', 'Poisoning'], 'Life expectancy')"
   ]
  },
  {
   "cell_type": "code",
   "execution_count": null,
   "metadata": {},
   "outputs": [],
   "source": [
    "# under-five deaths"
   ]
  },
  {
   "cell_type": "code",
   "execution_count": null,
   "metadata": {},
   "outputs": [],
   "source": [
    "analisis(datos_con_medianas_segregadas, ['Adult Mortality', 'Alcohol', 'percentage expenditure', 'Hepatitis B', 'Measles', 'BMI', 'Polio', 'Total expenditure', 'Diphtheria', 'HIV/AIDS', 'GDP', 'Population', 'thinness  1-19 years', 'Income composition of resources', 'Schooling', 'Poisoning'], 'Life expectancy')"
   ]
  },
  {
   "cell_type": "code",
   "execution_count": null,
   "metadata": {},
   "outputs": [],
   "source": [
    "# Polio"
   ]
  },
  {
   "cell_type": "code",
   "execution_count": null,
   "metadata": {},
   "outputs": [],
   "source": [
    "analisis(datos_con_medianas_segregadas, ['Adult Mortality', 'Alcohol', 'percentage expenditure', 'Hepatitis B', 'Measles', 'BMI', 'Total expenditure', 'Diphtheria', 'HIV/AIDS', 'GDP', 'Population', 'thinness  1-19 years', 'Income composition of resources', 'Schooling', 'Poisoning'], 'Life expectancy')"
   ]
  },
  {
   "cell_type": "code",
   "execution_count": null,
   "metadata": {},
   "outputs": [],
   "source": [
    "# GDP"
   ]
  },
  {
   "cell_type": "code",
   "execution_count": null,
   "metadata": {},
   "outputs": [],
   "source": [
    "analisis(datos_con_medianas_segregadas, ['Adult Mortality', 'Alcohol', 'percentage expenditure', 'Hepatitis B', 'Measles', 'BMI', 'Total expenditure', 'Diphtheria', 'HIV/AIDS', 'Population', 'thinness  1-19 years', 'Income composition of resources', 'Schooling', 'Poisoning'], 'Life expectancy')"
   ]
  },
  {
   "cell_type": "code",
   "execution_count": null,
   "metadata": {},
   "outputs": [],
   "source": [
    "# Schooling"
   ]
  },
  {
   "cell_type": "code",
   "execution_count": null,
   "metadata": {},
   "outputs": [],
   "source": [
    "analisis(datos_con_medianas_segregadas, ['Adult Mortality', 'Alcohol', 'percentage expenditure', 'Hepatitis B', 'Measles', 'BMI', 'Total expenditure', 'Diphtheria', 'HIV/AIDS', 'Population', 'thinness  1-19 years', 'Income composition of resources', 'Poisoning'], 'Life expectancy')"
   ]
  },
  {
   "cell_type": "code",
   "execution_count": null,
   "metadata": {},
   "outputs": [],
   "source": [
    "# ADULT MORTALITY"
   ]
  },
  {
   "cell_type": "markdown",
   "metadata": {},
   "source": [
    "Tenemos un modelo con todos los VIF < 5, con coeficiente dominante ADULT MORTALITY.\n",
    "\n",
    "Pero esta variable no es accionable, por lo que decidimos no considerarla desde el principio."
   ]
  },
  {
   "cell_type": "markdown",
   "metadata": {},
   "source": [
    "# Backwards selection sin ADULT MORTALITY"
   ]
  },
  {
   "cell_type": "code",
   "execution_count": null,
   "metadata": {},
   "outputs": [],
   "source": [
    "analisis(datos_con_medianas_segregadas, ['infant deaths', 'Alcohol', 'percentage expenditure', 'Hepatitis B', 'Measles', 'BMI', 'under-five deaths', 'Polio', 'Total expenditure', 'Diphtheria', 'HIV/AIDS', 'GDP', 'Population', 'thinness  1-19 years', 'thinness 5-9 years', 'Income composition of resources', 'Schooling', 'Poisoning'], 'Life expectancy')"
   ]
  },
  {
   "cell_type": "code",
   "execution_count": null,
   "metadata": {},
   "outputs": [],
   "source": [
    "# infant deaths"
   ]
  },
  {
   "cell_type": "code",
   "execution_count": null,
   "metadata": {},
   "outputs": [],
   "source": [
    "analisis(datos_con_medianas_segregadas, ['Alcohol', 'percentage expenditure', 'Hepatitis B', 'Measles', 'BMI', 'under-five deaths', 'Polio', 'Total expenditure', 'Diphtheria', 'HIV/AIDS', 'GDP', 'Population', 'thinness  1-19 years', 'thinness 5-9 years', 'Income composition of resources', 'Schooling', 'Poisoning'], 'Life expectancy')"
   ]
  },
  {
   "cell_type": "code",
   "execution_count": null,
   "metadata": {},
   "outputs": [],
   "source": [
    "# thinness 5-9 years"
   ]
  },
  {
   "cell_type": "code",
   "execution_count": null,
   "metadata": {},
   "outputs": [],
   "source": [
    "analisis(datos_con_medianas_segregadas, ['Alcohol', 'percentage expenditure', 'Hepatitis B', 'Measles', 'BMI', 'under-five deaths', 'Polio', 'Total expenditure', 'Diphtheria', 'HIV/AIDS', 'GDP', 'Population', 'thinness  1-19 years', 'Income composition of resources', 'Schooling', 'Poisoning'], 'Life expectancy')"
   ]
  },
  {
   "cell_type": "code",
   "execution_count": null,
   "metadata": {},
   "outputs": [],
   "source": [
    "# under-five deaths"
   ]
  },
  {
   "cell_type": "code",
   "execution_count": null,
   "metadata": {},
   "outputs": [],
   "source": [
    "analisis(datos_con_medianas_segregadas, ['Alcohol', 'percentage expenditure', 'Hepatitis B', 'Measles', 'BMI', 'Polio', 'Total expenditure', 'Diphtheria', 'HIV/AIDS', 'GDP', 'Population', 'thinness  1-19 years', 'Income composition of resources', 'Schooling', 'Poisoning'], 'Life expectancy')"
   ]
  },
  {
   "cell_type": "code",
   "execution_count": null,
   "metadata": {},
   "outputs": [],
   "source": [
    "# Diphtheria"
   ]
  },
  {
   "cell_type": "code",
   "execution_count": null,
   "metadata": {},
   "outputs": [],
   "source": [
    "analisis(datos_con_medianas_segregadas, ['Alcohol', 'percentage expenditure', 'Hepatitis B', 'Measles', 'BMI', 'Polio', 'Total expenditure', 'HIV/AIDS', 'GDP', 'Population', 'thinness  1-19 years', 'Income composition of resources', 'Schooling', 'Poisoning'], 'Life expectancy')"
   ]
  },
  {
   "cell_type": "code",
   "execution_count": null,
   "metadata": {},
   "outputs": [],
   "source": [
    "# GDP"
   ]
  },
  {
   "cell_type": "code",
   "execution_count": null,
   "metadata": {},
   "outputs": [],
   "source": [
    "analisis(datos_con_medianas_segregadas, ['Alcohol', 'percentage expenditure', 'Hepatitis B', 'Measles', 'BMI', 'Polio', 'Total expenditure', 'HIV/AIDS', 'Population', 'thinness  1-19 years', 'Income composition of resources', 'Schooling', 'Poisoning'], 'Life expectancy')"
   ]
  },
  {
   "cell_type": "code",
   "execution_count": null,
   "metadata": {},
   "outputs": [],
   "source": [
    "# Schooling"
   ]
  },
  {
   "cell_type": "code",
   "execution_count": null,
   "metadata": {},
   "outputs": [],
   "source": [
    "analisis(datos_con_medianas_segregadas, ['Alcohol', 'percentage expenditure', 'Hepatitis B', 'Measles', 'BMI', 'Polio', 'Total expenditure', 'HIV/AIDS', 'Population', 'thinness  1-19 years', 'Income composition of resources', 'Poisoning'], 'Life expectancy')"
   ]
  },
  {
   "cell_type": "markdown",
   "metadata": {},
   "source": [
    "Tenemos un modelo con todos los VIF < 5, con coeficiente dominante HIV/AIDS (y POLIO muy pegadito).\n",
    "\n",
    "Con este análisis llegamos a un grupo de predictores donde por lo menos hay un elemento de cada uno de los grupos de correlación obtenidos en el EDA."
   ]
  },
  {
   "cell_type": "markdown",
   "metadata": {},
   "source": [
    "Pero:\n",
    "\n",
    "POPULATION no es directamente accionable, porfa.\n",
    "\n",
    "ALCOHOL es el coeficiente que menor aporta al modelo, además de ser confounding. (\"Más se vive, más se bebe\")"
   ]
  },
  {
   "cell_type": "code",
   "execution_count": null,
   "metadata": {},
   "outputs": [],
   "source": [
    "analisis(datos_con_medianas_segregadas, ['percentage expenditure', 'Hepatitis B', 'Measles', 'BMI', 'Polio', 'Total expenditure', 'HIV/AIDS', 'thinness  1-19 years', 'Income composition of resources', 'Poisoning'], 'Life expectancy')"
   ]
  },
  {
   "cell_type": "markdown",
   "metadata": {},
   "source": [
    "Sabemos que POLIO y HEPATITIS B están correlacionados. Optamos por sacar la segunda dado que tiene un menor coeficiente."
   ]
  },
  {
   "cell_type": "code",
   "execution_count": null,
   "metadata": {},
   "outputs": [],
   "source": [
    "analisis(datos_con_medianas_segregadas, ['percentage expenditure', 'Measles', 'BMI', 'Polio', 'Total expenditure', 'HIV/AIDS', 'thinness  1-19 years', 'Income composition of resources', 'Poisoning'], 'Life expectancy')"
   ]
  },
  {
   "cell_type": "markdown",
   "metadata": {},
   "source": [
    "En el nuevo modelo Measels se vuelve insignificante (por su coeficiente)"
   ]
  },
  {
   "cell_type": "code",
   "execution_count": null,
   "metadata": {},
   "outputs": [],
   "source": [
    "analisis(datos_con_medianas_segregadas, ['percentage expenditure', 'BMI', 'Polio', 'Total expenditure', 'HIV/AIDS', 'thinness  1-19 years', 'Income composition of resources', 'Poisoning'], 'Life expectancy')"
   ]
  },
  {
   "cell_type": "markdown",
   "metadata": {},
   "source": [
    "Con este último modelo conseguimos un R² (ajustado) relativamente alto, con valores razonablemente bajos de VIF, utilizando pocas variables simples, es decir, cada regresor se basa en un único dato."
   ]
  },
  {
   "cell_type": "markdown",
   "metadata": {},
   "source": [
    "# Variables compuestas"
   ]
  },
  {
   "cell_type": "markdown",
   "metadata": {},
   "source": [
    "Dado que en la eliminación quizás descartamos datos potencialmente relevantes en cada grupo correlacionado, procedemos a intentar recuperarlos incorporandolos en regresores compuestos."
   ]
  },
  {
   "cell_type": "markdown",
   "metadata": {},
   "source": [
    "Probamos: \"Polio + Diphtheria\", \"Polio + Hepatitis B\" y \"Polio + Diphtheria + Hepatitis B\""
   ]
  },
  {
   "cell_type": "code",
   "execution_count": null,
   "metadata": {},
   "outputs": [],
   "source": [
    "if not (\"inmunizacion\" in datos_con_medianas_segregadas.columns):\n",
    "    datos_con_medianas_segregadas.insert(0, \"inmunizacion\", 0)\n",
    "\n",
    "datos_con_medianas_segregadas[\"inmunizacion\"] = datos_con_medianas_segregadas[\"Polio\"] + datos_con_medianas_segregadas[\"Diphtheria\"]"
   ]
  },
  {
   "cell_type": "code",
   "execution_count": null,
   "metadata": {},
   "outputs": [],
   "source": [
    "analisis(datos_con_medianas_segregadas, ['percentage expenditure', 'BMI', 'inmunizacion', 'Total expenditure', 'HIV/AIDS', 'thinness  1-19 years', 'Income composition of resources', 'Poisoning'], 'Life expectancy')"
   ]
  },
  {
   "cell_type": "markdown",
   "metadata": {},
   "source": [
    "La mejor opción resultó ser la primera"
   ]
  },
  {
   "cell_type": "markdown",
   "metadata": {},
   "source": [
    "Probamos: \"percentage expenditure + GDP\" (estandarizando)"
   ]
  },
  {
   "cell_type": "code",
   "execution_count": null,
   "metadata": {},
   "outputs": [],
   "source": [
    "if not (\"ricachosidad\" in datos_con_medianas_segregadas.columns):\n",
    "    datos_con_medianas_segregadas.insert(0, \"ricachosidad\", 0)\n",
    "    datos_con_medianas_segregadas.insert(0, \"standard_GDP\", 0)\n",
    "    datos_con_medianas_segregadas.insert(0, \"standard_expenditure\", 0)\n",
    "\n",
    "media = np.mean(datos_con_medianas_segregadas[\"GDP\"])\n",
    "std = np.std(datos_con_medianas_segregadas[\"GDP\"])\n",
    "datos_con_medianas_segregadas[\"standard_GDP\"] = (datos_con_medianas_segregadas[\"GDP\"]-media)/std\n",
    "\n",
    "media = np.mean(datos_con_medianas_segregadas[\"percentage expenditure\"])\n",
    "std = np.std(datos_con_medianas_segregadas[\"percentage expenditure\"])\n",
    "datos_con_medianas_segregadas[\"standard_expenditure\"] = (datos_con_medianas_segregadas[\"percentage expenditure\"]-media)/std\n",
    "\n",
    "datos_con_medianas_segregadas[\"ricachosidad\"] = datos_con_medianas_segregadas[\"standard_GDP\"] + datos_con_medianas_segregadas[\"standard_expenditure\"]"
   ]
  },
  {
   "cell_type": "markdown",
   "metadata": {},
   "source": [
    "No aporta"
   ]
  },
  {
   "cell_type": "markdown",
   "metadata": {},
   "source": [
    "Probamos: \"thinness  1-19 years + BMI\" (estandarizando)"
   ]
  },
  {
   "cell_type": "code",
   "execution_count": null,
   "metadata": {},
   "outputs": [],
   "source": [
    "if not (\"pachonsidad\" in datos_con_medianas_segregadas.columns):\n",
    "    datos_con_medianas_segregadas.insert(0, \"pachonsidad\", 0)\n",
    "    datos_con_medianas_segregadas.insert(0, \"standard_BMI\", 0)\n",
    "    datos_con_medianas_segregadas.insert(0, \"standard_thinness\", 0)\n",
    "\n",
    "media = np.mean(datos_con_medianas_segregadas[\"BMI\"])\n",
    "std = np.std(datos_con_medianas_segregadas[\"BMI\"])\n",
    "datos_con_medianas_segregadas[\"standard_BMI\"] = (datos_con_medianas_segregadas[\"BMI\"]-media)/std\n",
    "\n",
    "media = np.mean(datos_con_medianas_segregadas[\"thinness  1-19 years\"])\n",
    "std = np.std(datos_con_medianas_segregadas[\"thinness  1-19 years\"])\n",
    "datos_con_medianas_segregadas[\"standard_thinness\"] = (datos_con_medianas_segregadas[\"thinness  1-19 years\"]-media)/std\n",
    "\n",
    "datos_con_medianas_segregadas[\"pachonsidad\"] = datos_con_medianas_segregadas[\"standard_thinness\"] + datos_con_medianas_segregadas[\"standard_thinness\"]"
   ]
  },
  {
   "cell_type": "markdown",
   "metadata": {},
   "source": [
    "No rinde"
   ]
  },
  {
   "cell_type": "markdown",
   "metadata": {},
   "source": [
    "Probamos combinar los \"thinness\""
   ]
  },
  {
   "cell_type": "code",
   "execution_count": null,
   "metadata": {},
   "outputs": [],
   "source": [
    "if not (\"thinness\" in datos_con_medianas_segregadas.columns):\n",
    "    datos_con_medianas_segregadas.insert(0, \"thinness\", 0)\n",
    "\n",
    "datos_con_medianas_segregadas[\"thinness\"] = datos_con_medianas_segregadas[\"thinness  1-19 years\"] + datos_con_medianas_segregadas[\"thinness 5-9 years\"]"
   ]
  },
  {
   "cell_type": "code",
   "execution_count": 196,
   "metadata": {},
   "outputs": [
    {
     "name": "stdout",
     "output_type": "stream",
     "text": [
      "Países: 183\n",
      "\n",
      "COEFICIENTES SIN ESTANDARIZACIÓN (para predecir resultados):\n",
      "\t Constante: [42.52951802]\n",
      "\t +0.000950 \t percentage expenditure\n",
      "\t +0.121573 \t BMI\n",
      "\t +0.075811 \t inmunizacion\n",
      "\t +0.148966 \t Total expenditure\n",
      "\t -0.668396 \t HIV/AIDS\n",
      "\t +0.031877 \t thinness\n",
      "\t +15.165241 \t Income composition of resources\n",
      "\t -0.590706 \t Poisoning\n",
      "\n",
      "VARIABILIDAD EXPLICADA\n",
      "\t R² sin ajuste: 0.8647357754645306\n",
      "\t R² con ajuste: 0.8585167306583021\n",
      "\n",
      "COEFICIENTES CON ESTANDARIZACIÓN (para comparar significancia):\n",
      "\t +1.403417 \t percentage expenditure\n",
      "\t +1.918386 \t BMI\n",
      "\t +2.424878 \t inmunizacion\n",
      "\t +0.284124 \t Total expenditure\n",
      "\t -2.964647 \t HIV/AIDS\n",
      "\t +0.260765 \t thinness\n",
      "\t +2.738735 \t Income composition of resources\n",
      "\t -0.748393 \t Poisoning\n",
      "\n",
      "VIF:\n",
      "\t +1.513289 \t percentage expenditure\n",
      "\t +3.017489 \t BMI\n",
      "\t +1.605902 \t inmunizacion\n",
      "\t +1.270488 \t Total expenditure\n",
      "\t +1.230722 \t HIV/AIDS\n",
      "\t +2.176109 \t thinness\n",
      "\t +2.655295 \t Income composition of resources\n",
      "\t +1.155368 \t Poisoning\n"
     ]
    },
    {
     "data": {
      "image/png": "[encoded data removed]",
      "text/plain": [
       "<Figure size 432x288 with 1 Axes>"
      ]
     },
     "metadata": {
      "needs_background": "light"
     },
     "output_type": "display_data"
    },
    {
     "name": "stdout",
     "output_type": "stream",
     "text": [
      "--------------------------------------------------------------------------------------------------------------------------------\n"
     ]
    }
   ],
   "source": [
    "analisis(datos_con_medianas_segregadas, ['percentage expenditure', 'BMI', 'inmunizacion', 'Total expenditure', 'HIV/AIDS', 'thinness', 'Income composition of resources', 'Poisoning'], 'Life expectancy')"
   ]
  },
  {
   "cell_type": "markdown",
   "metadata": {},
   "source": [
    "Sirve un poco"
   ]
  },
  {
   "cell_type": "markdown",
   "metadata": {},
   "source": [
    "# Llegamos a un modelo relativamente bueno\n",
    "8 variables\n",
    "\n",
    "R² con ajuste: 0.8585167\n",
    "\n",
    ":)"
   ]
  },
  {
   "cell_type": "code",
   "execution_count": null,
   "metadata": {},
   "outputs": [],
   "source": []
  },
  {
   "cell_type": "code",
   "execution_count": null,
   "metadata": {},
   "outputs": [],
   "source": []
  }
 ],
 "metadata": {
  "kernelspec": {
   "display_name": "Python 3 (ipykernel)",
   "language": "python",
   "name": "python3"
  },
  "language_info": {
   "codemirror_mode": {
    "name": "ipython",
    "version": 3
   },
   "file_extension": ".py",
   "mimetype": "text/x-python",
   "name": "python",
   "nbconvert_exporter": "python",
   "pygments_lexer": "ipython3",
   "version": "3.8.10"
  }
 },
 "nbformat": 4,
 "nbformat_minor": 2
}
